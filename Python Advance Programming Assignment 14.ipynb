{
 "cells": [
  {
   "cell_type": "markdown",
   "id": "9f32c4e7",
   "metadata": {},
   "source": [
    "Q1. Given a list of numbers, create a function that removes 25% from every number in the list except the smallest number, and adds the total amount removed to the smallest number.\n",
    "Examples:\n",
    "show_the_love([4, 1, 4]) ➞ [3, 3, 3]\n",
    "show_the_love([16, 10, 8]) ➞ [12, 7.5, 14.5]\n",
    "show_the_love([2, 100]) ➞ [27, 75]"
   ]
  },
  {
   "cell_type": "code",
   "execution_count": 1,
   "id": "8fb67e57",
   "metadata": {},
   "outputs": [
    {
     "name": "stdout",
     "output_type": "stream",
     "text": [
      "show_the_love([4, 1, 4]) ➞ [3.0, 3.0, 3.0]\n",
      "show_the_love([16, 10, 8]) ➞ [12.0, 7.5, 14.5]\n",
      "show_the_love([2, 100]) ➞ [27.0, 75.0]\n"
     ]
    }
   ],
   "source": [
    "def show_the_love(in_list):\n",
    "    out_list = in_list.copy()\n",
    "    sum_num = 0\n",
    "    for ele in range(len(out_list)):\n",
    "        if out_list[ele] is not min(out_list):\n",
    "            sum_num += out_list[ele]/4\n",
    "            out_list[ele] =  out_list[ele]-(out_list[ele]/4)\n",
    "    out_list[out_list.index(min(out_list))] = sum_num +min(out_list)\n",
    "    print(f'show_the_love({in_list}) ➞ {out_list}')\n",
    "            \n",
    "show_the_love([4, 1, 4])\n",
    "show_the_love([16, 10, 8])\n",
    "show_the_love([2, 100])"
   ]
  },
  {
   "cell_type": "code",
   "execution_count": 2,
   "id": "02e7afff",
   "metadata": {},
   "outputs": [
    {
     "name": "stdout",
     "output_type": "stream",
     "text": [
      "[3, 3, 3]\n",
      "[12, 7.5, 14.5]\n",
      "[27, 75]\n"
     ]
    }
   ],
   "source": [
    "def show_the_love(l):\n",
    "    smallest_no = min(l)\n",
    "    index = l.index(smallest_no)\n",
    "    k = 0\n",
    "    \n",
    "    for i in range(len(l)):\n",
    "        if l[i] != smallest_no:\n",
    "            j =  0.25 * l[i]\n",
    "            l[i] = l[i]- j\n",
    "            k += j\n",
    "            \n",
    "    l[index] = smallest_no + k\n",
    "    l = [int(i) if i == int(i) else i for i in l]\n",
    "    return l\n",
    "\n",
    "print(show_the_love([4,1,4]) )\n",
    "print(show_the_love([16, 10, 8]))\n",
    "print(show_the_love([2, 100]))"
   ]
  },
  {
   "cell_type": "markdown",
   "id": "6a306e66",
   "metadata": {},
   "source": [
    "Q2. Create a function that takes in two words as input and returns a list of three elements, in the following order:\n",
    "1.Shared letters between two words. 2.Letters unique to word 1. 3.Letters unique to word 2.\n",
    "\n",
    "Each element should have unique letters, and have each letter be alphabetically sorted.\n",
    "\n",
    "Examples\n",
    "\n",
    "letters(\"sharp\", \"soap\") ➞ [\"aps\", \"hr\", \"o\"]\n",
    "\n",
    "letters(\"board\", \"bored\") ➞ [\"bdor\", \"a\", \"e\"]\n",
    "\n",
    "letters(\"happiness\", \"envelope\") ➞ [\"enp\", \"ahis\", \"lov\"]\n",
    "\n",
    "letters(\"kerfuffle\", \"fluffy\") ➞ [\"flu\", \"ekr\", \"y\"]\n",
    "Even with multiple matching letters (e.g. 3 f's), there should\n",
    "only exist a single \"f\" in your first element.\n",
    "letters(\"match\", \"ham\") ➞ [\"ahm\", \"ct\", \"\"]\n",
    "\n",
    "\"ham\" does not contain any letters that are not found already\n",
    "in \"match\"."
   ]
  },
  {
   "cell_type": "code",
   "execution_count": 3,
   "id": "a8bf8fc8",
   "metadata": {},
   "outputs": [
    {
     "name": "stdout",
     "output_type": "stream",
     "text": [
      "letters('sharp', 'soap') ➞ ['aps', 'hr', 'o']\n",
      "letters('board', 'bored') ➞ ['bdor', 'a', 'e']\n",
      "letters('happiness', 'envelope') ➞ ['enp', 'ahis', 'lov']\n",
      "letters('kerfuffle', 'fluffy') ➞ ['flu', 'ekr', 'y']\n",
      "letters('match', 'ham') ➞ ['ahm', 'ct', '']\n"
     ]
    }
   ],
   "source": [
    "def letters(s_one,s_two):\n",
    "    s_one_set = set(s_one)\n",
    "    s_two_set = set(s_two)\n",
    "    out_list = []\n",
    "    out_list.append(''.join(sorted(s_one_set.intersection(s_two_set))))\n",
    "    out_list.append(''.join(sorted(s_one_set.difference(s_two_set))))\n",
    "    out_list.append(''.join(sorted(s_two_set.difference(s_one_set)))) \n",
    "    print(f'letters{s_one,s_two} ➞ {out_list}')\n",
    "    \n",
    "letters(\"sharp\", \"soap\")\n",
    "letters(\"board\", \"bored\")\n",
    "letters(\"happiness\", \"envelope\")\n",
    "letters(\"kerfuffle\", \"fluffy\")\n",
    "letters(\"match\", \"ham\")"
   ]
  },
  {
   "cell_type": "markdown",
   "id": "a43b266d",
   "metadata": {},
   "source": [
    "Q3. Write a function that pairs the first number in an array with the last, the second number with the second to last, etc.\n",
    "Examples\n",
    "\n",
    "pairs([1, 2, 3, 4, 5, 6, 7]) ➞ [[1, 7], [2, 6], [3, 5], [4, 4]]\n",
    "\n",
    "pairs([1, 2, 3, 4, 5, 6]) ➞ [[1, 6], [2, 5], [3, 4]]\n",
    "\n",
    "pairs([5, 9, 8, 1, 2]) ➞ [[5, 2], [9, 1], [8, 8]]\n",
    "\n",
    "pairs([]) ➞ []"
   ]
  },
  {
   "cell_type": "code",
   "execution_count": 4,
   "id": "98d5268e",
   "metadata": {},
   "outputs": [
    {
     "name": "stdout",
     "output_type": "stream",
     "text": [
      "[[1, 7], [2, 6], [3, 5], [4, 4]]\n",
      "[[1, 6], [2, 5], [3, 4]]\n",
      "[[5, 2], [9, 1], [8, 8]]\n",
      "[]\n"
     ]
    }
   ],
   "source": [
    "import math\n",
    "def pairs(l):\n",
    "    l2 = []\n",
    "    for i in range(math.ceil(len(l)/2)):\n",
    "        l1 = []\n",
    "        l1.append(l[i])\n",
    "        l1.append(l[len(l)-i-1])\n",
    "        l2.append(l1)\n",
    "    return l2\n",
    "\n",
    "print(pairs([1,2,3,4,5,6,7]))\n",
    "print(pairs([1,2,3,4,5,6]))\n",
    "print(pairs([5,9,8,1,2]))\n",
    "print(pairs([]))"
   ]
  },
  {
   "cell_type": "code",
   "execution_count": 5,
   "id": "caac58d3",
   "metadata": {},
   "outputs": [
    {
     "name": "stdout",
     "output_type": "stream",
     "text": [
      "pairs([1, 2, 3, 4, 5, 6, 7]) ➞ [[1, 7], [2, 6], [3, 5], [4, 4]]\n",
      "pairs([1, 2, 3, 4, 5, 6]) ➞ [[1, 6], [2, 5], [3, 4]]\n",
      "pairs([5, 9, 8, 1, 2]) ➞ [[5, 2], [9, 1], [8, 8]]\n",
      "pairs([]) ➞ []\n"
     ]
    }
   ],
   "source": [
    "def pairs(in_list):\n",
    "    in_list_clone = in_list.copy()\n",
    "    output = []\n",
    "    while True:\n",
    "        if len(in_list) > 0:\n",
    "            if len(in_list) == 1:\n",
    "                output.append([in_list[0],in_list.pop(0)])\n",
    "            else:\n",
    "                output.append([in_list.pop(0),in_list.pop(-1)])\n",
    "        else:\n",
    "            break\n",
    "    print(f'pairs({in_list_clone}) ➞ {output}')\n",
    "            \n",
    "pairs([1, 2, 3, 4, 5, 6, 7])\n",
    "pairs([1, 2, 3, 4, 5, 6])\n",
    "pairs([5, 9, 8, 1, 2])\n",
    "pairs([])"
   ]
  },
  {
   "cell_type": "markdown",
   "id": "82f70e6b",
   "metadata": {},
   "source": [
    "Q4. Write a function that adds two numbers. The catch, however, is that the numbers will be strings.\n",
    "Examples\n",
    "\n",
    "add_str_nums(\"4\", \"5\") ➞ \"9\"\n",
    "\n",
    "add_str_nums(\"abcdefg\", \"3\") ➞ \"-1\"\n",
    "\n",
    "add_str_nums(\"1\", \"\") ➞ \"1\"\n",
    "\n",
    "add_str_nums(\"1874682736267235927359283579235789257\", \"32652983572985729\") ➞ \"1874682736267235927391936562808774986\""
   ]
  },
  {
   "cell_type": "code",
   "execution_count": 6,
   "id": "528b0e9b",
   "metadata": {},
   "outputs": [
    {
     "name": "stdout",
     "output_type": "stream",
     "text": [
      "9\n",
      "-1\n",
      "1\n",
      "1874682736267235927391936562808774986\n"
     ]
    }
   ],
   "source": [
    "def add_str_nums(s1,s2):\n",
    "    if s1 != '' and s2 != '':\n",
    "        if s1.isnumeric() and s2.isnumeric():\n",
    "            return str(int(s1) + int(s2))\n",
    "        else:\n",
    "            return -1\n",
    "    else:\n",
    "        return s1 + s2\n",
    "    \n",
    "    \n",
    "print(add_str_nums(\"4\",\"5\"))\n",
    "print(add_str_nums(\"abcdefg\", \"3\"))\n",
    "print(add_str_nums(\"1\",\"\"))\n",
    "print(add_str_nums(\"1874682736267235927359283579235789257\", \"32652983572985729\"))"
   ]
  },
  {
   "cell_type": "code",
   "execution_count": 7,
   "id": "643a7f58",
   "metadata": {},
   "outputs": [
    {
     "name": "stdout",
     "output_type": "stream",
     "text": [
      "add_str_nums('4', '5') ➞ 9\n",
      "add_str_nums('abcdefg', '3') ➞ -1\n",
      "add_str_nums('1', '0') ➞ 1\n",
      "add_str_nums('1874682736267235927359283579235789257', '32652983572985729') ➞ 1874682736267235927391936562808774986\n"
     ]
    }
   ],
   "source": [
    "def add_str_nums(in_one,in_two):\n",
    "    in_one = in_one if len(in_one) > 0 else \"0\"\n",
    "    in_two = in_two if len(in_two) > 0 else \"0\"\n",
    "    if in_one.isdigit() == False or in_two.isdigit() == False:\n",
    "        output = -1\n",
    "    else: \n",
    "        output = int(in_one)+int(in_two)\n",
    "    print(f'add_str_nums{in_one,in_two} ➞ {str(output)}')\n",
    "        \n",
    "add_str_nums(\"4\", \"5\")\n",
    "add_str_nums(\"abcdefg\", \"3\")\n",
    "add_str_nums(\"1\", \"\")\n",
    "add_str_nums(\"1874682736267235927359283579235789257\", \"32652983572985729\")"
   ]
  },
  {
   "cell_type": "markdown",
   "id": "b7292637",
   "metadata": {},
   "source": [
    "Q5. lPaeesh le pemu mnxit ehess rtnisg! Oh, sorry, that was supposed to say: Please help me unmix these strings!\n",
    "Somehow my strings have all become mixed up; every pair of characters has been swapped. Help me undo this so I can understand my strings again.\n",
    "\n",
    "Examples\n",
    "\n",
    "unmix(\"123456\") ➞ \"214365\"\n",
    "\n",
    "unmix(\"hTsii s aimex dpus rtni.g\") ➞ \"This is a mixed up string.\"\n",
    "\n",
    "unmix(\"badce\") ➞ \"abcde\""
   ]
  },
  {
   "cell_type": "code",
   "execution_count": 8,
   "id": "8d35bb0a",
   "metadata": {},
   "outputs": [
    {
     "name": "stdout",
     "output_type": "stream",
     "text": [
      "unmix(123456) ➞ 214365\n",
      "unmix(hTsii  s aimex dpus rtni.g) ➞ This is a mixed up string.\n",
      "unmix(badce) ➞ abcde\n"
     ]
    }
   ],
   "source": [
    "def unmix(in_string):\n",
    "    output = ''\n",
    "    for ele in range(0,len(in_string)-1,2):\n",
    "        output += in_string[ele+1]+in_string[ele]\n",
    "        if (len(in_string)%2 != 0 and ele == len(in_string)//2 ):\n",
    "            output += in_string[-1]       \n",
    "    print(f'unmix({in_string}) ➞ {output}')\n",
    "\n",
    "unmix(\"123456\")\n",
    "unmix(\"hTsii  s aimex dpus rtni.g\")\n",
    "unmix(\"badce\")"
   ]
  },
  {
   "cell_type": "code",
   "execution_count": 9,
   "id": "9e610d74",
   "metadata": {},
   "outputs": [
    {
     "name": "stdout",
     "output_type": "stream",
     "text": [
      "214365\n",
      "This is a mixed up string.\n",
      "abcde\n"
     ]
    }
   ],
   "source": [
    "def unmix(s):\n",
    "    length = len(s)\n",
    "\n",
    "    if length % 2 != 0 :\n",
    "        length = length - 1\n",
    "\n",
    "    l = list(s)\n",
    "    i = 0\n",
    "    while True:\n",
    "        if i == length:\n",
    "            break\n",
    "        else:\n",
    "            l[i], l[i+1] = l[i+1],l[i]\n",
    "            i += 2\n",
    "\n",
    "    s = ''\n",
    "    for i in l:\n",
    "        s += ''.join(i)\n",
    "\n",
    "    return s    \n",
    "\n",
    "print(unmix(\"123456\"))\n",
    "print(unmix(\"hTsii  s aimex dpus rtni.g\"))\n",
    "print(unmix(\"badce\"))"
   ]
  }
 ],
 "metadata": {
  "kernelspec": {
   "display_name": "Python 3 (ipykernel)",
   "language": "python",
   "name": "python3"
  },
  "language_info": {
   "codemirror_mode": {
    "name": "ipython",
    "version": 3
   },
   "file_extension": ".py",
   "mimetype": "text/x-python",
   "name": "python",
   "nbconvert_exporter": "python",
   "pygments_lexer": "ipython3",
   "version": "3.9.7"
  }
 },
 "nbformat": 4,
 "nbformat_minor": 5
}
