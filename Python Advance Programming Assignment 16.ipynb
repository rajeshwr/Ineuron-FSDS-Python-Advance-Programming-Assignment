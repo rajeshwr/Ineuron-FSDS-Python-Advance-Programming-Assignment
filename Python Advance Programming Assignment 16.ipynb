{
 "cells": [
  {
   "cell_type": "markdown",
   "id": "a71d534f",
   "metadata": {},
   "source": [
    "Q1. Rondo Form is a type of musical structure, in which there is a recurring theme/refrain, notated as A. Here are the rules for valid rondo forms:\n",
    "Rondo forms always start and end with an A section.\n",
    "In between the A sections, there should be contrasting sections notated as B, then C, then D, etc... No letter should be skipped.\n",
    "There shouldn't be any repeats in the sequence (such as ABBACCA).\n",
    "Create a function which validates whether a given string is a valid Rondo Form.\n",
    "\n",
    "Examples\n",
    "\n",
    "valid_rondo(\"ABACADAEAFAGAHAIAJA\") ➞ True\n",
    "\n",
    "valid_rondo(\"ABA\") ➞ True\n",
    "\n",
    "valid_rondo(\"ABBACCA\") ➞ False\n",
    "\n",
    "valid_rondo(\"ACAC\") ➞ False\n",
    "\n",
    "valid_rondo(\"A\") ➞ False"
   ]
  },
  {
   "cell_type": "code",
   "execution_count": 1,
   "id": "cf7f1a67",
   "metadata": {},
   "outputs": [
    {
     "name": "stdout",
     "output_type": "stream",
     "text": [
      "True\n",
      "True\n",
      "False\n",
      "False\n",
      "False\n"
     ]
    }
   ],
   "source": [
    "def valid_rondo(s):\n",
    "    if s[0] == s[-1] == 'A' and len(s) > 1:\n",
    "        for i in range(1,len(s)-1):\n",
    "            if s[i] != 'A' and s.count(s[i]) > 1:\n",
    "                return False\n",
    "\n",
    "        return True\n",
    "    else:\n",
    "        return False\n",
    "    \n",
    "\n",
    "print(valid_rondo(\"ABACADAEAFAGAHAIAJA\"))\n",
    "print(valid_rondo(\"ABA\"))\n",
    "print(valid_rondo(\"ABBACCA\"))\n",
    "print(valid_rondo(\"ACAC\"))\n",
    "print(valid_rondo(\"A\"))"
   ]
  },
  {
   "cell_type": "code",
   "execution_count": 2,
   "id": "8eb6ba54",
   "metadata": {},
   "outputs": [
    {
     "name": "stdout",
     "output_type": "stream",
     "text": [
      "valid_rondo(ABACADAEAFAGAHAIAJA) ➞ True\n",
      "valid_rondo(ABA) ➞ True\n",
      "valid_rondo(ABBACCA) ➞ False\n",
      "valid_rondo(ACAC) ➞ False\n",
      "valid_rondo(A) ➞ False\n"
     ]
    }
   ],
   "source": [
    "def valid_rondo(in_string):\n",
    "    in_string_x = in_string.replace('A','')\n",
    "    in_string_x = list(in_string_x)\n",
    "    output = False\n",
    "    if len(in_string_x) == 1:\n",
    "            output= True\n",
    "    else:\n",
    "        for ele in range(len(in_string_x)-1):\n",
    "            if ord(in_string_x[ele]) < ord(in_string_x[ele+1]):\n",
    "                output= True\n",
    "            else:\n",
    "                output = False\n",
    "                break\n",
    "    print(f\"valid_rondo({in_string}) ➞ {output}\")\n",
    "   \n",
    "valid_rondo(\"ABACADAEAFAGAHAIAJA\")\n",
    "valid_rondo(\"ABA\")\n",
    "valid_rondo(\"ABBACCA\")\n",
    "valid_rondo(\"ACAC\")\n",
    "valid_rondo(\"A\")"
   ]
  },
  {
   "cell_type": "markdown",
   "id": "832263a5",
   "metadata": {},
   "source": [
    "Q2. Create a function that returns the whole of the first sentence which contains a specific word. Include the full stop at the end of the sentence.\n",
    "Examples\n",
    "\n",
    "txt = \"I have a cat. I have a mat. Things are going swell.\"\n",
    "\n",
    "sentence_searcher(txt, \"have\") ➞ \"I have a cat.\"\n",
    "\n",
    "sentence_searcher(txt, \"MAT\") ➞ \"I have a mat.\"\n",
    "\n",
    "sentence_searcher(txt, \"things\") ➞ \"Things are going swell.\"\n",
    "\n",
    "sentence_searcher(txt, \"flat\") ➞ \"\""
   ]
  },
  {
   "cell_type": "code",
   "execution_count": 3,
   "id": "82f38294",
   "metadata": {},
   "outputs": [
    {
     "name": "stdout",
     "output_type": "stream",
     "text": [
      "I have a cat.\n",
      "I have a mat.\n",
      "Things are going swell.\n",
      "\n"
     ]
    }
   ],
   "source": [
    "def sentence_searcher(txt, s):\n",
    "    for i in txt.split('.'):\n",
    "        if s.lower() in i.lower():\n",
    "            i = i.strip()\n",
    "            i += '.'\n",
    "            return i\n",
    "    else:\n",
    "        return \"\"\n",
    "    \n",
    "txt = \"I have a cat. I have a mat. Things are going swell.\"\n",
    "    \n",
    "print(sentence_searcher(txt, \"have\"))\n",
    "\n",
    "print(sentence_searcher(txt, \"MAT\"))\n",
    "\n",
    "print(sentence_searcher(txt, \"things\"))\n",
    "\n",
    "print(sentence_searcher(txt, \"flat\"))"
   ]
  },
  {
   "cell_type": "code",
   "execution_count": 4,
   "id": "c8a34bf4",
   "metadata": {},
   "outputs": [
    {
     "name": "stdout",
     "output_type": "stream",
     "text": [
      "sentence_searcher('I have a cat. I have a mat. Things are going swell.', 'have') ➞ I have a cat\n",
      "sentence_searcher('I have a cat. I have a mat. Things are going swell.', 'MAT') ➞ I have a mat\n",
      "sentence_searcher('I have a cat. I have a mat. Things are going swell.', 'things') ➞ Things are going swell.\n",
      "sentence_searcher('I have a cat. I have a mat. Things are going swell.', 'flat') ➞ \"\"\n"
     ]
    }
   ],
   "source": [
    "def sentence_searcher(in_string, search_text):\n",
    "    output = '\"\"'\n",
    "    for ele in in_string.split(\". \"):\n",
    "        if len(ele.lower().replace(search_text.lower(),'')) != len(ele):\n",
    "            output = ele\n",
    "            break\n",
    "    print(f'sentence_searcher{in_string,search_text} ➞ {output}')\n",
    "\n",
    "txt = \"I have a cat. I have a mat. Things are going swell.\"\n",
    "\n",
    "sentence_searcher(txt, \"have\")\n",
    "sentence_searcher(txt, \"MAT\")\n",
    "sentence_searcher(txt, \"things\")\n",
    "sentence_searcher(txt, \"flat\")"
   ]
  },
  {
   "cell_type": "markdown",
   "id": "fc0d2cb0",
   "metadata": {},
   "source": [
    "Q3. Given a number, find the \"round \"of each digit of the number. An integer is called \"round\" if all its digits except the leftmost (most significant) are equal to zero.\n",
    "- Round numbers: 4000, 1, 9, 800, 90\n",
    "- Not round numbers: 110, 707, 222, 1001\n",
    "\n",
    "Create a function that takes a number and returns the \"round\" of each digit (except if the digit is zero) as a string. Check out the following examples for more clarification.\n",
    "\n",
    "Examples\n",
    "\n",
    "sum_round(101) ➞ \"1 100\"\n",
    "\n",
    "sum_round(1234) ➞ \"4 30 200 1000\"\n",
    "\n",
    "sum_round(54210) ➞ \"10 200 4000 50000\""
   ]
  },
  {
   "cell_type": "code",
   "execution_count": 5,
   "id": "e736ffe3",
   "metadata": {},
   "outputs": [
    {
     "name": "stdout",
     "output_type": "stream",
     "text": [
      "1 1000\n",
      "4 30 200 1000\n",
      "10 200 4000 50000\n",
      "10 2000 40000 500000\n"
     ]
    }
   ],
   "source": [
    "def sum_round(n):\n",
    "    n = str(n)\n",
    "    output = ''\n",
    "    j = 1\n",
    "    for i in range(len(n)-1,-1,-1):\n",
    "        output += str(int(n[i]) * j) + ' '\n",
    "        j *= 10\n",
    "\n",
    "    output = output.lstrip('0 ').replace(' 0','')\n",
    "    return output.strip()        \n",
    "        \n",
    "print(sum_round(1001))\n",
    "\n",
    "print(sum_round(1234))\n",
    "\n",
    "print(sum_round(54210))\n",
    "\n",
    "print(sum_round(542010))"
   ]
  },
  {
   "cell_type": "code",
   "execution_count": 6,
   "id": "b716a34a",
   "metadata": {},
   "outputs": [
    {
     "name": "stdout",
     "output_type": "stream",
     "text": [
      "sum_round(101) ➞ 1 100\n",
      "sum_round(1234) ➞ 4 30 200 1000\n",
      "sum_round(54210) ➞ 10 200 4000 50000\n"
     ]
    }
   ],
   "source": [
    "def sum_round(in_num):\n",
    "    output = []\n",
    "    in_num = str(in_num)\n",
    "    for ele in range(len(in_num)):\n",
    "        if in_num[ele] != '0':\n",
    "            output.append(in_num[ele]+len(in_num[ele+1:])*'0')\n",
    "    print(f'sum_round({in_num}) ➞ {\" \".join(output[::-1])}')\n",
    "        \n",
    "sum_round(101)\n",
    "sum_round(1234)\n",
    "sum_round(54210)"
   ]
  },
  {
   "cell_type": "markdown",
   "id": "15d17c05",
   "metadata": {},
   "source": [
    "Q4. Your task, is to create N x N multiplication table, of size n provided in parameter.\n",
    "For example, when n is 5, the multiplication table is:\n",
    "\n",
    "1, 2, 3, 4, 5\n",
    "2, 4, 6, 8, 10\n",
    "3, 6, 9, 12, 15\n",
    "4, 8, 12, 16, 20\n",
    "5, 10, 15, 20, 25\n",
    "This example will result in:\n",
    "\n",
    "[[1, 2, 3, 4, 5], [2, 4, 6, 8, 10], [3, 6, 9, 12, 15], [4, 8, 12, 16, 20], [5, 10, 15, 20, 25]]\n",
    "\n",
    "Examples\n",
    "\n",
    "multiplication_table(1) ➞ [[1]]\n",
    "\n",
    "multiplication_table(3) ➞ [[1, 2, 3], [2, 4, 6], [3, 6, 9]]"
   ]
  },
  {
   "cell_type": "code",
   "execution_count": 7,
   "id": "75eab384",
   "metadata": {},
   "outputs": [
    {
     "name": "stdout",
     "output_type": "stream",
     "text": [
      "[[1]]\n",
      "[[1, 2, 3], [2, 4, 6], [3, 6, 9]]\n"
     ]
    }
   ],
   "source": [
    "def multiplication_table(n):\n",
    "    l = []\n",
    "    k = 1\n",
    "    \n",
    "    for i in range(n):\n",
    "        l1 = []\n",
    "        for j in range(1,n+1):\n",
    "            l1.append(j * k)\n",
    "        l.append(l1)    \n",
    "        k += 1\n",
    "        \n",
    "    return l \n",
    "\n",
    "print(multiplication_table(1))\n",
    "print(multiplication_table(3))"
   ]
  },
  {
   "cell_type": "code",
   "execution_count": 8,
   "id": "e1cccdcb",
   "metadata": {},
   "outputs": [
    {
     "name": "stdout",
     "output_type": "stream",
     "text": [
      "multiplication_table(3) ➞ [[1, 2, 3], [2, 4, 6], [3, 6, 9]]\n",
      "multiplication_table(1) ➞ [[1]]\n",
      "multiplication_table(5) ➞ [[1, 2, 3, 4, 5], [2, 4, 6, 8, 10], [3, 6, 9, 12, 15], [4, 8, 12, 16, 20], [5, 10, 15, 20, 25]]\n"
     ]
    }
   ],
   "source": [
    "def multiplication_table(in_num):\n",
    "    out_list =[]\n",
    "    for a in range(1,in_num+1):\n",
    "        temp_list = []\n",
    "        for b in range(1,in_num+1):\n",
    "            temp_list.append(a*b)\n",
    "        out_list.append(temp_list)\n",
    "    print(f'multiplication_table({in_num}) ➞ {out_list}')\n",
    "        \n",
    "multiplication_table(3) \n",
    "multiplication_table(1)\n",
    "multiplication_table(5)"
   ]
  },
  {
   "cell_type": "markdown",
   "id": "9945d159",
   "metadata": {},
   "source": [
    "Q5. Create a function that returns True if two lines rhyme and False otherwise. For the purposes of this exercise, two lines rhyme if the last word from each sentence contains the same vowels.\n",
    "Examples\n",
    "\n",
    "does_rhyme(\"Sam I am!\", \"Green eggs and ham.\") ➞ True\n",
    "\n",
    "does_rhyme(\"Sam I am!\", \"Green eggs and HAM.\") ➞ True\n",
    "\n",
    "Capitalization and punctuation should not matter.\n",
    "does_rhyme(\"You are off to the races\", \"a splendid day.\") ➞ False\n",
    "\n",
    "does_rhyme(\"and frequently do?\", \"you gotta move.\") ➞ False"
   ]
  },
  {
   "cell_type": "code",
   "execution_count": 9,
   "id": "a02bf0b1",
   "metadata": {},
   "outputs": [
    {
     "name": "stdout",
     "output_type": "stream",
     "text": [
      "True\n",
      "True\n",
      "False\n",
      "False\n"
     ]
    }
   ],
   "source": [
    "def does_rhyme(s,s1):\n",
    "    for letter in s.split()[-1]:\n",
    "        for letter1 in s1.split()[-1]:\n",
    "            if letter.lower() in \"aieou\" and letter1.lower() in \"aeiou\":\n",
    "                if letter.lower() != letter1.lower():\n",
    "                    return False\n",
    "    return True            \n",
    "            \n",
    "print(does_rhyme(\"Sam I am!\", \"Green eggs and ham.\"))\n",
    "print(does_rhyme(\"Sam I am!\", \"Green eggs and HAM.\") )\n",
    "print(does_rhyme(\"You are off to the races\", \"a splendid day.\"))\n",
    "print(does_rhyme(\"and frequently do?\", \"you gotta move.\"))"
   ]
  },
  {
   "cell_type": "code",
   "execution_count": 10,
   "id": "74758331",
   "metadata": {},
   "outputs": [
    {
     "name": "stdout",
     "output_type": "stream",
     "text": [
      "does_rhyme('Sam I am!', 'Green eggs and ham.') ➞ True\n",
      "does_rhyme('Sam I am!', 'Green eggs and HAM.') ➞ True\n",
      "does_rhyme('You are off to the races', 'a splendid day.') ➞ False\n",
      "does_rhyme('and frequently do?', 'you gotta move.') ➞ False\n"
     ]
    }
   ],
   "source": [
    "def does_rhyme(in_one,in_two):\n",
    "    vowels = 'aeiou'\n",
    "    output= False\n",
    "    in_one_rhyme = [x.lower() for x in in_one.split(\" \")[-1] if x.lower() in vowels]\n",
    "    in_two_rhyme = [x.lower() for x in in_two.split(\" \")[-1] if x.lower() in vowels]\n",
    "    if in_one_rhyme == in_two_rhyme:\n",
    "        output = True\n",
    "    print(f'does_rhyme{in_one,in_two} ➞ {output}')\n",
    "    \n",
    "does_rhyme(\"Sam I am!\", \"Green eggs and ham.\")\n",
    "does_rhyme(\"Sam I am!\", \"Green eggs and HAM.\")\n",
    "does_rhyme(\"You are off to the races\", \"a splendid day.\")\n",
    "does_rhyme(\"and frequently do?\", \"you gotta move.\")"
   ]
  }
 ],
 "metadata": {
  "kernelspec": {
   "display_name": "Python 3 (ipykernel)",
   "language": "python",
   "name": "python3"
  },
  "language_info": {
   "codemirror_mode": {
    "name": "ipython",
    "version": 3
   },
   "file_extension": ".py",
   "mimetype": "text/x-python",
   "name": "python",
   "nbconvert_exporter": "python",
   "pygments_lexer": "ipython3",
   "version": "3.9.7"
  }
 },
 "nbformat": 4,
 "nbformat_minor": 5
}
