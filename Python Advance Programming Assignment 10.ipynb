{
 "cells": [
  {
   "cell_type": "markdown",
   "id": "ac0e24c9",
   "metadata": {},
   "source": [
    "Q1. Create a function that takes the width, height and character and returns a picture frame as a 2D list.\n",
    "Examples\n",
    "\n",
    "get_frame(4, 5, \"#\") ➞ [ [\"####\"], [\"# #\"], [\"# #\"], [\"# #\"], [\"####\"] ]\n",
    "\n",
    "Frame is 4 characters wide and 5 characters tall.\n",
    "get_frame(10, 3, \"\") ➞ [ [\"*******\"], [\"* *\"], [\"********\"] ]\n",
    "\n",
    "Frame is 10 characters and wide and 3 characters tall.\n",
    "get_frame(2, 5, \"0\") ➞ \"invalid\"\n",
    "\n",
    "Frame's width is not more than 2."
   ]
  },
  {
   "cell_type": "code",
   "execution_count": 1,
   "id": "dedbbf07",
   "metadata": {},
   "outputs": [
    {
     "name": "stdout",
     "output_type": "stream",
     "text": [
      "[['####'], ['#  #'], ['#  #'], ['#  #'], ['####']]\n",
      "[['**********'], ['*        *'], ['**********']]\n",
      "[['++++++'], ['+    +'], ['+    +'], ['+    +'], ['+    +'], ['+    +'], ['++++++']]\n",
      "Invalid\n"
     ]
    }
   ],
   "source": [
    "def get_frame(w,t,char):\n",
    "    l = []\n",
    "    if w > 2:\n",
    "        for i in range(t):\n",
    "            l1 = []\n",
    "            if i == 0 or i == t-1:\n",
    "                l1.append(char*w)\n",
    "            else:\n",
    "                pattern = char + ' ' * (w-2) + char\n",
    "                l1.append(pattern)\n",
    "            l.append(l1)                \n",
    "        return l\n",
    "    else:\n",
    "        return 'Invalid'\n",
    "            \n",
    "print(get_frame(4,5,'#')) \n",
    "print(get_frame(10,3,'*'))\n",
    "print(get_frame(6,7,'+'))\n",
    "print(get_frame(2,5,'0'))"
   ]
  },
  {
   "cell_type": "markdown",
   "id": "374cac8b",
   "metadata": {},
   "source": [
    "Q2. Write three functions:\n",
    "boolean_and\n",
    "boolean_or\n",
    "boolean_xor\n",
    "These functions should evaluate a list of True and False values, starting from the leftmost element and evaluating pairwise.\n",
    "\n",
    "Examples\n",
    "\n",
    "boolean_and([True, True, False, True]) ➞ False\n",
    "\n",
    "[True, True, False, True] => [True, False, True] => [False, True] => False\n",
    "boolean_or([True, True, False, False]) ➞ True\n",
    "\n",
    "[True, True, False, True] => [True, False, False] => [True, False] => True\n",
    "boolean_xor([True, True, False, False]) ➞ False\n",
    "\n",
    "[True, True, False, False] => [False, False, False] => [False, False] => False"
   ]
  },
  {
   "cell_type": "code",
   "execution_count": 2,
   "id": "64ff841b",
   "metadata": {},
   "outputs": [
    {
     "name": "stdout",
     "output_type": "stream",
     "text": [
      "False\n",
      "True\n",
      "False\n"
     ]
    }
   ],
   "source": [
    "def boolean_and(l):\n",
    "    res = True\n",
    "    i = 0\n",
    "    while i < len(l):\n",
    "        res = res and l[i]\n",
    "        l.pop(i)\n",
    "        l[0] = res\n",
    "        length = len(l)\n",
    "        i += 1\n",
    "    return l[0] and l[1]\n",
    "\n",
    "def boolean_or(l):\n",
    "    res = False\n",
    "    i = 0\n",
    "    while i < len(l):\n",
    "        res = res or l[i]\n",
    "        l.pop(i)\n",
    "        l[0] = res\n",
    "        length = len(l)\n",
    "        i += 1\n",
    "    return l[0] or l[1]\n",
    "\n",
    "def boolean_xor(l):\n",
    "    res = True\n",
    "    i = 0\n",
    "    while i < len(l):\n",
    "        res = res ^ l[i]\n",
    "        l.pop(i)\n",
    "        l[0] = res\n",
    "        length = len(l)\n",
    "        i += 1\n",
    "    return l[0] ^ l[1]\n",
    "\n",
    "print(boolean_and([False, True, False, True]) )        \n",
    "print(boolean_or([True, True, False, False])) \n",
    "print(boolean_xor([True, True, False, False]))"
   ]
  },
  {
   "cell_type": "code",
   "execution_count": 3,
   "id": "8d4fe45d",
   "metadata": {},
   "outputs": [
    {
     "name": "stdout",
     "output_type": "stream",
     "text": [
      "boolean_and([True, True, False, True]) ➞ False\n",
      "boolean_or([True, True, False, False]) ➞ True\n",
      "boolean_xor([True, True, False, False]) ➞ False\n"
     ]
    }
   ],
   "source": [
    "def boolean_and(in_list):\n",
    "    in_list_clone = in_list.copy()\n",
    "    while len(in_list) != 1:\n",
    "        x = in_list.pop(0)\n",
    "        y = in_list.pop(0)\n",
    "        in_list.insert(0,(x and y))\n",
    "    print(f'boolean_and({in_list_clone}) ➞ {in_list[0]}')\n",
    "    \n",
    "def boolean_or(in_list):\n",
    "    in_list_clone = in_list.copy()\n",
    "    while len(in_list) != 1:\n",
    "        x = in_list.pop(0)\n",
    "        y = in_list.pop(0)\n",
    "        in_list.insert(0,(x or y))\n",
    "    print(f'boolean_or({in_list_clone}) ➞ {in_list[0]}')\n",
    "    \n",
    "def boolean_xor(in_list):\n",
    "    in_list_clone = in_list.copy()\n",
    "    while len(in_list) != 1:\n",
    "        x = in_list.pop(0)\n",
    "        y = in_list.pop(0)\n",
    "        in_list.insert(0,(x ^ y))\n",
    "    print(f'boolean_xor({in_list_clone}) ➞ {in_list[0]}')\n",
    "    \n",
    "boolean_and([True, True, False, True])\n",
    "boolean_or([True, True, False, False])\n",
    "boolean_xor([True, True, False, False])"
   ]
  },
  {
   "cell_type": "markdown",
   "id": "4b4c28a9",
   "metadata": {},
   "source": [
    "Q3. Create a function that creates a box based on dimension n.\n",
    "Examples\n",
    "\n",
    "make_box(5) ➞ [ \"#####\", \"# #\", \"# #\", \"# #\", \"#####\" ]\n",
    "\n",
    "make_box(3) ➞ [ \"###\", \"# #\", \"###\" ]\n",
    "\n",
    "make_box(2) ➞ [ \"##\", \"##\" ]\n",
    "\n",
    "make_box(1) ➞ [ \"#\" ]"
   ]
  },
  {
   "cell_type": "code",
   "execution_count": 4,
   "id": "cee71c60",
   "metadata": {},
   "outputs": [
    {
     "name": "stdout",
     "output_type": "stream",
     "text": [
      "Output is::\n",
      "['#####', '#   #', '#   #', '#   #', '#####']\n",
      "Output is::\n",
      "['###', '# #', '###']\n",
      "Output is::\n",
      "['##', '##']\n",
      "Output is::\n",
      "['#']\n"
     ]
    }
   ],
   "source": [
    "def make_box(n):\n",
    "    l = []\n",
    "    print('Output is::')\n",
    "    for i in range(n):\n",
    "        pattern = ''\n",
    "        if i == 0 or i == n-1:\n",
    "            pattern += '#'*n\n",
    "        else:\n",
    "            pattern += '#' + ' ' * (n-2) + '#'\n",
    "        l.append(pattern)    \n",
    "    return l\n",
    "\n",
    "print(make_box(5))\n",
    "print(make_box(3))\n",
    "print(make_box(2))\n",
    "print(make_box(1))"
   ]
  },
  {
   "cell_type": "markdown",
   "id": "89302072",
   "metadata": {},
   "source": [
    "Q4. Given a common phrase, return False if any individual word in the phrase contains duplicate letters. Return True otherwise.\n",
    "Examples\n",
    "\n",
    "no_duplicate_letters(\"Fortune favours the bold.\") ➞ True\n",
    "\n",
    "no_duplicate_letters(\"You can lead a horse to water, but you can't make him drink.\") ➞ True\n",
    "\n",
    "no_duplicate_letters(\"Look before you leap.\") ➞ False\n",
    "\n",
    "Duplicate letters in \"Look\" and \"before\".\n",
    "no_duplicate_letters(\"An apple a day keeps the doctor away.\") ➞ False\n",
    "\n",
    "Duplicate letters in \"apple\", \"keeps\", \"doctor\", and \"away\"."
   ]
  },
  {
   "cell_type": "code",
   "execution_count": 5,
   "id": "d12f4b0c",
   "metadata": {},
   "outputs": [
    {
     "name": "stdout",
     "output_type": "stream",
     "text": [
      "True\n",
      "True\n",
      "False\n",
      "False\n"
     ]
    }
   ],
   "source": [
    "def no_duplicate_letters(s):\n",
    "    words = s.split()\n",
    "    for word in words:\n",
    "        for letter in word:\n",
    "            if word.count(letter) > 1:\n",
    "                return False\n",
    "\n",
    "    return True\n",
    "        \n",
    "print(no_duplicate_letters(\"Fortune favours the bold.\"))\n",
    "print(no_duplicate_letters(\"You can lead a horse to water, but you can't make him drink.\"))\n",
    "print(no_duplicate_letters(\"Look before you leap.\"))\n",
    "print(no_duplicate_letters(\"An apple a day keeps the doctor away.\"))"
   ]
  },
  {
   "cell_type": "code",
   "execution_count": 6,
   "id": "b8262702",
   "metadata": {},
   "outputs": [
    {
     "name": "stdout",
     "output_type": "stream",
     "text": [
      "no_duplicate_letters(Fortune favours the bold.) ➞ True\n",
      "no_duplicate_letters(You can lead a horse to water, but you can't make him drink.) ➞ True\n",
      "no_duplicate_letters(Look before you leap.) ➞ False\n",
      "no_duplicate_letters(An apple a day keeps the doctor away.) ➞ False\n"
     ]
    }
   ],
   "source": [
    "def no_duplicate_letters(in_string):\n",
    "    out_put = None\n",
    "    for ele in in_string.split(' '):\n",
    "        if len(ele) == len(set(ele)):\n",
    "            out_put = True\n",
    "        else:\n",
    "            out_put = False\n",
    "            break\n",
    "    print(f'no_duplicate_letters({in_string}) ➞ {out_put}')\n",
    "    \n",
    "no_duplicate_letters(\"Fortune favours the bold.\")\n",
    "no_duplicate_letters(\"You can lead a horse to water, but you can't make him drink.\")\n",
    "no_duplicate_letters(\"Look before you leap.\")\n",
    "no_duplicate_letters(\"An apple a day keeps the doctor away.\")"
   ]
  },
  {
   "cell_type": "markdown",
   "id": "54743933",
   "metadata": {},
   "source": [
    "Q5. Write a regular expression that will match the states that voted yes to President Trump's impeachment. You must use RegEx positive lookahead.\n",
    "Example\n",
    "\n",
    "txt = \"Texas = no, California = yes, Florida = yes, Michigan = no\" pattern = \"yourregularexpressionhere\"\n",
    "\n",
    "re.findall(pattern, txt) ➞ [\"California\", \"Florida\"]"
   ]
  },
  {
   "cell_type": "code",
   "execution_count": 7,
   "id": "7bbdad50",
   "metadata": {},
   "outputs": [
    {
     "name": "stdout",
     "output_type": "stream",
     "text": [
      "['California', 'Florida']\n"
     ]
    }
   ],
   "source": [
    "import re\n",
    "\n",
    "txt = \"Texas = no, California = yes, Florida = yes, Michigan = no\" \n",
    "\n",
    "pattern = r'[a-zA-Z]+(?= = yes)'\n",
    "\n",
    "match = re.findall(pattern, txt)\n",
    "\n",
    "print(match)"
   ]
  },
  {
   "cell_type": "code",
   "execution_count": 8,
   "id": "3d150484",
   "metadata": {},
   "outputs": [
    {
     "name": "stdout",
     "output_type": "stream",
     "text": [
      "re.findall('\\\\w+(?=\\\\s=\\\\syes*)', 'Texas = no, California = yes, Florida = yes, Michigan = no') ➞ ['California', 'Florida']\n"
     ]
    }
   ],
   "source": [
    "import re\n",
    "txt = \"Texas = no, California = yes, Florida = yes, Michigan = no\"\n",
    "pattern = r'\\w+(?=\\s=\\syes*)'\n",
    "match = re.findall(pattern,txt)\n",
    "print(f're.findall{pattern,txt} ➞ {match}')"
   ]
  }
 ],
 "metadata": {
  "kernelspec": {
   "display_name": "Python 3 (ipykernel)",
   "language": "python",
   "name": "python3"
  },
  "language_info": {
   "codemirror_mode": {
    "name": "ipython",
    "version": 3
   },
   "file_extension": ".py",
   "mimetype": "text/x-python",
   "name": "python",
   "nbconvert_exporter": "python",
   "pygments_lexer": "ipython3",
   "version": "3.9.7"
  }
 },
 "nbformat": 4,
 "nbformat_minor": 5
}
