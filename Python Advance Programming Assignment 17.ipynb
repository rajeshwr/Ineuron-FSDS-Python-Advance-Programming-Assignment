{
 "cells": [
  {
   "cell_type": "code",
   "execution_count": null,
   "id": "b632a558",
   "metadata": {},
   "outputs": [],
   "source": [
    "Q1. Create a function that transposes a 2D matrix.\n",
    "Examples\n",
    "\n",
    "transpose_matrix([ [1, 1, 1], [2, 2, 2], [3, 3, 3] ]) ➞ [ [1, 2, 3], [1, 2, 3], [1, 2, 3] ]\n",
    "\n",
    "transpose_matrix([ [5, 5], [6, 7], [9, 1] ]) ➞ [ [5, 6, 9], [5, 7, 1] ]"
   ]
  },
  {
   "cell_type": "code",
   "execution_count": 1,
   "id": "8652b2ee",
   "metadata": {},
   "outputs": [
    {
     "name": "stdout",
     "output_type": "stream",
     "text": [
      "[[1, 2, 3], [1, 2, 3], [1, 2, 3]]\n",
      "[[5, 6, 9], [5, 7, 1]]\n"
     ]
    }
   ],
   "source": [
    "def transpose_matrix(l):\n",
    "    l2 = []\n",
    "    for i in range(len(l[0])):\n",
    "        l1 = []\n",
    "        \n",
    "        for j in range(len(l)):\n",
    "            l1.append(l[j][i])\n",
    "        l2.append(l1)\n",
    "    return l2    \n",
    "        \n",
    "print(transpose_matrix([ [1, 1, 1], [2, 2, 2], [3, 3, 3]]))\n",
    "print(transpose_matrix([ [5, 5], [6, 7], [9, 1] ]))"
   ]
  },
  {
   "cell_type": "code",
   "execution_count": 2,
   "id": "64686660",
   "metadata": {},
   "outputs": [
    {
     "name": "stdout",
     "output_type": "stream",
     "text": [
      "transpose_matrix([[1, 1, 1], [2, 2, 2], [3, 3, 3]]) ➞ [[1, 2, 3], [1, 2, 3], [1, 2, 3]]\n",
      "transpose_matrix([[5, 5], [6, 7], [9, 1]]) ➞ [[5, 6, 9], [5, 7, 1]]\n"
     ]
    }
   ],
   "source": [
    "def transpose_matrix(in_list):\n",
    "    output = []\n",
    "    for ele_1 in range(len(in_list[0])):\n",
    "        temp = []\n",
    "        for ele_2 in in_list:\n",
    "            temp.append(ele_2[ele_1])\n",
    "        output.append(temp)\n",
    "    print(f'transpose_matrix({in_list}) ➞ {output}')\n",
    "\n",
    "transpose_matrix([[1, 1, 1],[2, 2, 2],[3, 3, 3]])\n",
    "transpose_matrix([[5, 5],[6, 7],[9, 1]])"
   ]
  },
  {
   "cell_type": "markdown",
   "id": "54ca69a5",
   "metadata": {},
   "source": [
    "Q2. Create a function that determines whether a string is a valid hex code.\n",
    "A hex code must begin with a pound key # and is exactly 6 characters in length. Each character must be a digit from 0-9 or an alphabetic character from A-F. All alphabetic characters may be uppercase or lowercase.\n",
    "\n",
    "Examples\n",
    "\n",
    "is_valid_hex_code(\"#CD5C5C\") ➞ True\n",
    "\n",
    "is_valid_hex_code(\"#EAECEE\") ➞ True\n",
    "\n",
    "is_valid_hex_code(\"#eaecee\") ➞ True\n",
    "\n",
    "is_valid_hex_code(\"#CD5C58C\") ➞ False\n",
    "\n",
    "Length exceeds 6\n",
    "is_valid_hex_code(\"#CD5C5Z\") ➞ False\n",
    "\n",
    "Not all alphabetic characters in A-F\n",
    "is_valid_hex_code(\"#CD5C&C\") ➞ False\n",
    "\n",
    "Contains unacceptable character\n",
    "is_valid_hex_code(\"CD5C5C\") ➞ False\n",
    "\n",
    "Missing"
   ]
  },
  {
   "cell_type": "code",
   "execution_count": 3,
   "id": "8063d6eb",
   "metadata": {},
   "outputs": [
    {
     "name": "stdout",
     "output_type": "stream",
     "text": [
      "True\n",
      "True\n",
      "True\n",
      "False\n",
      "False\n",
      "False\n",
      "False\n"
     ]
    }
   ],
   "source": [
    "def is_valid_hex_code(s):\n",
    "    if len(s) == 7 and s[0] == '#':\n",
    "        for letter in s[1:]:\n",
    "            if letter.lower() not in 'abcdef' and not letter.isdigit() :\n",
    "                return False\n",
    "        return True\n",
    "    else:\n",
    "        return False\n",
    "        \n",
    "\n",
    "print(is_valid_hex_code(\"#CD5C5C\"))\n",
    "print(is_valid_hex_code(\"#EAECEE\"))\n",
    "print(is_valid_hex_code(\"#eaecee\"))                \n",
    "print(is_valid_hex_code(\"#CD5C58C\"))\n",
    "print(is_valid_hex_code(\"#CD5C5Z\"))\n",
    "print(is_valid_hex_code(\"#CD5C&C\"))\n",
    "print(is_valid_hex_code(\"CD5C5C\"))"
   ]
  },
  {
   "cell_type": "code",
   "execution_count": 4,
   "id": "0a764dad",
   "metadata": {},
   "outputs": [
    {
     "name": "stdout",
     "output_type": "stream",
     "text": [
      "is_valid_hex_code(#CD5C5C) ➞ True\n",
      "is_valid_hex_code(#EAECEE) ➞ True\n",
      "is_valid_hex_code(#eaecee) ➞ True\n",
      "is_valid_hex_code(#CD5C58C) ➞ False\n",
      "is_valid_hex_code(#CD5C5Z) ➞ False\n",
      "is_valid_hex_code(#CD5C&C) ➞ False\n",
      "is_valid_hex_code(CD5C5C) ➞ False\n"
     ]
    }
   ],
   "source": [
    "def is_valid_hex_code(in_string):\n",
    "    out_string = True\n",
    "    for ele in in_string:\n",
    "        if ele.lower() not in '#abcdef0123456789' or len(in_string) != 7:\n",
    "            out_string = False\n",
    "    print(f'is_valid_hex_code({in_string}) ➞ {out_string}')\n",
    "\n",
    "is_valid_hex_code(\"#CD5C5C\")\n",
    "is_valid_hex_code(\"#EAECEE\")\n",
    "is_valid_hex_code(\"#eaecee\")\n",
    "is_valid_hex_code(\"#CD5C58C\")\n",
    "is_valid_hex_code(\"#CD5C5Z\")\n",
    "is_valid_hex_code(\"#CD5C&C\")\n",
    "is_valid_hex_code(\"CD5C5C\")"
   ]
  },
  {
   "cell_type": "markdown",
   "id": "6cda48ba",
   "metadata": {},
   "source": [
    "Q3. Given a list of math equations (given as strings), return the percentage of correct answers as a string. Round to the nearest whole number.\n",
    "Examples\n",
    "\n",
    "mark_maths([\"2+2=4\", \"3+2=5\", \"10-3=3\", \"5+5=10\"]) ➞ \"75%\"\n",
    "\n",
    "mark_maths([\"1-2=-2\"]), \"0%\"\n",
    "\n",
    "mark_maths([\"2+3=5\", \"4+4=9\", \"3-1=2\"]) ➞ \"67%\""
   ]
  },
  {
   "cell_type": "code",
   "execution_count": 5,
   "id": "5a72b282",
   "metadata": {},
   "outputs": [
    {
     "name": "stdout",
     "output_type": "stream",
     "text": [
      "75%\n",
      "0%\n",
      "67%\n"
     ]
    }
   ],
   "source": [
    "def mark_maths(l):\n",
    "    count = 0\n",
    "    for item in l:\n",
    "        item1 = item.split('=')\n",
    "        if eval(item1[0]) == int(item1[1]):\n",
    "            count += 1\n",
    "\n",
    "    return str(round((count/len(l)) * 100)) +'%'     \n",
    "\n",
    "print(mark_maths([\"2+2=4\", \"3+2=5\", \"10-3=3\", \"5+5=10\"])) \n",
    "print(mark_maths([\"1-2=-2\"]))\n",
    "print(mark_maths([\"2+3=5\", \"4+4=9\", \"3-1=2\"]))"
   ]
  },
  {
   "cell_type": "code",
   "execution_count": 6,
   "id": "94788655",
   "metadata": {},
   "outputs": [
    {
     "name": "stdout",
     "output_type": "stream",
     "text": [
      "mark_maths(['2+2=4', '3+2=5', '10-3=3', '5+5=10']) ➞ 75%\n",
      "mark_maths(['1-2=-2']) ➞ 0%\n",
      "mark_maths(['2+3=5', '4+4=9', '3-1=2']) ➞ 67%\n"
     ]
    }
   ],
   "source": [
    "import math\n",
    "def mark_maths(in_list):\n",
    "    out_list = []\n",
    "    for ele in in_list:\n",
    "        ele = ele.split(\"=\")\n",
    "        out_list.append(eval(ele[0]) == int(ele[1])) \n",
    "    print(f'mark_maths({in_list}) ➞ {str(math.ceil((sum(out_list)/len(out_list))*100))}%')\n",
    "        \n",
    "mark_maths([\"2+2=4\", \"3+2=5\", \"10-3=3\", \"5+5=10\"])\n",
    "mark_maths([\"1-2=-2\"])\n",
    "mark_maths([\"2+3=5\", \"4+4=9\", \"3-1=2\"])"
   ]
  },
  {
   "cell_type": "markdown",
   "id": "5379dc6a",
   "metadata": {},
   "source": [
    "Q4. There are two players, Alice and Bob, each with a 3-by-3 grid. A referee tells Alice to fill out one particular row in the grid (say the second row) by putting either a 1 or a 0 in each box, such that the sum of the numbers in that row is odd. The referee tells Bob to fill out one column in the grid (say the first column) by putting either a 1 or a 0 in each box, such that the sum of the numbers in that column is even.\n",
    "Alice and Bob win the game if Alice’s numbers give an odd sum, Bob’s give an even sum, and (most important) they’ve each written down the same number in the one square where their row and column intersect.\n",
    "\n",
    "Examples\n",
    "\n",
    "magic_square_game([2, \"100\"], [1, \"101\"]) ➞ False\n",
    "\n",
    "magic_square_game([2, \"001\"], [1, \"101\"]) ➞ True\n",
    "\n",
    "magic_square_game([3, \"111\"], [2, \"011\"]) ➞ True\n",
    "\n",
    "magic_square_game([1, \"010\"], [3, \"101\"]) ➞ False\n",
    "\n",
    "Two lists, Alice [row, \"her choice\"], Bob [column, \"his choice\"]"
   ]
  },
  {
   "cell_type": "code",
   "execution_count": 7,
   "id": "62c38517",
   "metadata": {},
   "outputs": [
    {
     "name": "stdout",
     "output_type": "stream",
     "text": [
      "magic_square_game([2, '100'], [1, '101']) ➞ False\n",
      "magic_square_game([2, '001'], [1, '101']) ➞ True\n",
      "magic_square_game([3, '111'], [2, '011']) ➞ True\n",
      "magic_square_game([1, '010'], [3, '101']) ➞ False\n"
     ]
    }
   ],
   "source": [
    "def magic_square_game(in_one,in_two):\n",
    "    output = False\n",
    "    if in_two[1][in_one[0]-1] == in_one[1][in_two[0]-1]:\n",
    "        output = True\n",
    "    print(f'magic_square_game{in_one,in_two} ➞ {output}')\n",
    "    \n",
    "magic_square_game([2, \"100\"], [1, \"101\"])\n",
    "magic_square_game([2, \"001\"], [1, \"101\"]) \n",
    "magic_square_game([3, \"111\"], [2, \"011\"]) \n",
    "magic_square_game([1, \"010\"], [3, \"101\"]) "
   ]
  },
  {
   "cell_type": "code",
   "execution_count": 8,
   "id": "6e616fd1",
   "metadata": {},
   "outputs": [
    {
     "name": "stdout",
     "output_type": "stream",
     "text": [
      "False\n",
      "True\n",
      "True\n",
      "False\n"
     ]
    }
   ],
   "source": [
    "def magic_square_game(l1,l2):\n",
    "    if (sum(list(map(int,l1[1]))) % 2 != 0) and (sum(list(map(int,l2[1]))) % 2 == 0):\n",
    "        if l1[1][l2[0] - 1] == l2[1][l1[0] - 1]:\n",
    "            return True\n",
    "    return False\n",
    "\n",
    "print(magic_square_game([2, \"100\"], [1, \"101\"]))\n",
    "print(magic_square_game([2, \"001\"], [1, \"101\"]))\n",
    "print(magic_square_game([3, \"111\"], [2, \"011\"]) )\n",
    "print(magic_square_game([1, \"010\"], [3, \"101\"]))"
   ]
  },
  {
   "cell_type": "markdown",
   "id": "b5e5b5ad",
   "metadata": {},
   "source": [
    "Q5. From point A, an object is moving towards point B at constant velocity va (in km/hr). From point B, another object is moving towards point A at constant velocity vb (in km/hr). Knowing this and the distance between point A and B (in km), write a function that returns how much time passes until both objects meet.\n",
    "Format the output like this:\n",
    "\n",
    "\"2h 23min 34s\"\n",
    "\n",
    "Examples\n",
    "\n",
    "lets_meet(100, 10, 30) ➞ \"2h 30min 0s\"\n",
    "\n",
    "lets_meet(280, 70, 80) ➞ \"1h 52min 0s\"\n",
    "\n",
    "lets_meet(90, 75, 65) ➞ \"0h 38min 34s\""
   ]
  },
  {
   "cell_type": "code",
   "execution_count": 9,
   "id": "4e4a271c",
   "metadata": {},
   "outputs": [
    {
     "name": "stdout",
     "output_type": "stream",
     "text": [
      "2h 30min 0sec\n",
      "1h 52min 0sec\n",
      "0h 38min 34sec\n"
     ]
    }
   ],
   "source": [
    "def lets_meet(d,v1,v2):\n",
    "    res =  d / (v1+v2)\n",
    "    time = res * 60\n",
    "    hours, seconds = divmod(time * 60, 3600)  # split to hours and seconds\n",
    "    minutes, seconds = divmod(seconds, 60)\n",
    "    return str(round(hours))+\"h \"+ str(round(minutes)) +\"min \"+ str(round(seconds)) +\"sec\"\n",
    "\n",
    "print(lets_meet(100, 10, 30))\n",
    "print(lets_meet(280, 70, 80))\n",
    "print(lets_meet(90, 75, 65))"
   ]
  },
  {
   "cell_type": "code",
   "execution_count": 10,
   "id": "2dd4f0da",
   "metadata": {},
   "outputs": [
    {
     "name": "stdout",
     "output_type": "stream",
     "text": [
      "lets_meet(100, 10, 30) ➞ 2h 30min 0s\n",
      "lets_meet(280, 70, 80) ➞ 1h 52min 0s\n",
      "lets_meet(90, 75, 65) ➞ 0h 38min 34s\n"
     ]
    }
   ],
   "source": [
    "import math\n",
    "def lets_meet(in_dist,in_va,in_vb):\n",
    "    total_time = in_dist/(in_va+in_vb)\n",
    "    Hours = math.floor(total_time) \n",
    "    Minutes = math.floor((total_time-Hours)*60)\n",
    "    Seconds = math.floor(((((total_time)-Hours)*60)-Minutes)*60)\n",
    "    print(f'lets_meet{in_dist,in_va,in_vb} ➞ {Hours}h {Minutes}min {Seconds}s')\n",
    "    \n",
    "lets_meet(100, 10, 30)\n",
    "lets_meet(280, 70, 80)\n",
    "lets_meet(90, 75, 65)"
   ]
  }
 ],
 "metadata": {
  "kernelspec": {
   "display_name": "Python 3 (ipykernel)",
   "language": "python",
   "name": "python3"
  },
  "language_info": {
   "codemirror_mode": {
    "name": "ipython",
    "version": 3
   },
   "file_extension": ".py",
   "mimetype": "text/x-python",
   "name": "python",
   "nbconvert_exporter": "python",
   "pygments_lexer": "ipython3",
   "version": "3.9.7"
  }
 },
 "nbformat": 4,
 "nbformat_minor": 5
}
