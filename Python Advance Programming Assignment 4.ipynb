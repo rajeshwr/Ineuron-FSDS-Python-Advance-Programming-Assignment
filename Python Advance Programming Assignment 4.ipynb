{
 "cells": [
  {
   "cell_type": "markdown",
   "id": "049baf49",
   "metadata": {},
   "source": [
    "Q1.In mathematics, the Fibonacci numbers, commonly denoted Fn, form a sequence, called the Fibonacci sequence, such that each number is the sum of the two preceding ones, starting from 0 and 1:\n",
    "image.png\n",
    "\n",
    "The beginning of the sequence is this: 0, 1, 1, 2, 3, 5, 8, 13, 21, 34, 55, 89, 144, ...\n",
    "The function fastFib(num) returns the fibonacci number Fn, of the given num as an argument.\n",
    "Examples:\n",
    "fib_fast(5) ➞ 5\n",
    "fib_fast(10) ➞ 55\n",
    "fib_fast(20) ➞ 6765\n",
    "fib_fast(50) ➞ 12586269025"
   ]
  },
  {
   "cell_type": "code",
   "execution_count": 1,
   "id": "bbff9e78",
   "metadata": {},
   "outputs": [
    {
     "name": "stdout",
     "output_type": "stream",
     "text": [
      "5\n",
      "55\n",
      "6765\n"
     ]
    }
   ],
   "source": [
    "def fib_fast(n):\n",
    "    if n == 0:\n",
    "        return 0\n",
    "    if n == 1 or n == 2:\n",
    "        return 1\n",
    "    if n > 1:\n",
    "        return fib_fast(n-1) + fib_fast(n-2)\n",
    "    \n",
    "print(fib_fast(5))\n",
    "print(fib_fast(10))\n",
    "print(fib_fast(20))"
   ]
  },
  {
   "cell_type": "markdown",
   "id": "cde9c8fc",
   "metadata": {},
   "source": [
    "Q2. Create a function that takes a strings characters as ASCII and returns each characters hexadecimal value as a string.\n",
    "Examples\n",
    "\n",
    "convert_to_hex(\"hello world\") ➞ \"68 65 6c 6c 6f 20 77 6f 72 6c 64\"\n",
    "\n",
    "convert_to_hex(\"Big Boi\") ➞ \"42 69 67 20 42 6f 69\"\n",
    "\n",
    "convert_to_hex(\"Marty Poppinson\") ➞ \"4d 61 72 74 79 20 50 6f 70 70 69 6e 73 6f 6e\""
   ]
  },
  {
   "cell_type": "code",
   "execution_count": 3,
   "id": "1e8a1731",
   "metadata": {},
   "outputs": [
    {
     "name": "stdout",
     "output_type": "stream",
     "text": [
      "convert_to_hex(hello world) ➞ 68 65 6c 6c 6f 20 77 6f 72 6c 64\n",
      "convert_to_hex(Big Boi) ➞ 42 69 67 20 42 6f 69\n",
      "convert_to_hex(Marty Poppinson) ➞ 4d 61 72 74 79 20 50 6f 70 70 69 6e 73 6f 6e\n"
     ]
    }
   ],
   "source": [
    "def convert_to_hex(in_string):\n",
    "    out_string = []\n",
    "    for ele in in_string:\n",
    "        out_string.append(hex(ord(ele))[2:])\n",
    "    print(f'convert_to_hex({in_string}) ➞ {\" \".join(out_string)}')\n",
    "\n",
    "convert_to_hex(\"hello world\")\n",
    "convert_to_hex(\"Big Boi\")\n",
    "convert_to_hex(\"Marty Poppinson\")"
   ]
  },
  {
   "cell_type": "code",
   "execution_count": 4,
   "id": "ac5071ae",
   "metadata": {},
   "outputs": [
    {
     "name": "stdout",
     "output_type": "stream",
     "text": [
      "68 65 6c 6c 6f 20 77 6f 72 6c 64\n",
      "42 69 67 20 42 6f 69\n",
      "4d 61 72 74 79 20 50 6f 70 70 69 6e 73 6f 6e\n"
     ]
    }
   ],
   "source": [
    "def convert_to_hex(s):\n",
    "    s = s.encode('utf-8')\n",
    "    return s.hex(' ')\n",
    "\n",
    "print(convert_to_hex(\"hello world\"))\n",
    "print(convert_to_hex(\"Big Boi\"))\n",
    "print(convert_to_hex(\"Marty Poppinson\"))"
   ]
  },
  {
   "cell_type": "markdown",
   "id": "9602c4b1",
   "metadata": {},
   "source": [
    "Q3.Someone has attempted to censor my strings by replacing every vowel with a *, l*k* th*s. Luckily, I've been able to find the vowels that were removed.\n",
    "Given a censored string and a string of the censored vowels, return the original uncensored string.\n",
    "Examples:\n",
    "uncensor(\"Wh*r* d*d my v*w*ls g*?\", \"eeioeo\") ➞ \"Where did my vowels go?\"\n",
    "uncensor(\"abcd\", \"\") ➞ \"abcd\"\n",
    "uncensor(\"*PP*RC*S*\", \"UEAE\") ➞ \"UPPERCASE\""
   ]
  },
  {
   "cell_type": "code",
   "execution_count": 5,
   "id": "532cdfed",
   "metadata": {},
   "outputs": [
    {
     "name": "stdout",
     "output_type": "stream",
     "text": [
      "Where did my vowels go?\n",
      "abcd\n",
      "UPPERCASE\n"
     ]
    }
   ],
   "source": [
    "def uncensor(s,s1):\n",
    "    i = 0 \n",
    "    \n",
    "    for letter in s:\n",
    "        if letter == '*':\n",
    "            s = s.replace('*', s1[i],1)\n",
    "            i += 1\n",
    "    return s\n",
    "\n",
    "print(uncensor(\"Wh*r* d*d my v*w*ls g*?\", \"eeioeo\"))\n",
    "print(uncensor(\"abcd\", \"\"))\n",
    "print(uncensor(\"*PP*RC*S*\", \"UEAE\"))"
   ]
  },
  {
   "cell_type": "code",
   "execution_count": 6,
   "id": "4294f235",
   "metadata": {},
   "outputs": [
    {
     "name": "stdout",
     "output_type": "stream",
     "text": [
      "uncensor('Wh*r* d*d my v*w*ls g*?', 'eeioeo') ➞ Where did my vowels go?\n",
      "uncensor('abcd', '') ➞ abcd\n",
      "uncensor('*PP*RC*S*', 'UEAE') ➞ UPPERCASE\n"
     ]
    }
   ],
   "source": [
    "def uncensor(in_string,in_vowels):\n",
    "    window = 0\n",
    "    out_string = ''\n",
    "    for ele in in_string:\n",
    "        if ele == '*':\n",
    "            out_string += in_vowels[window]\n",
    "            window +=1\n",
    "        else:\n",
    "            out_string += ele\n",
    "    print(f'uncensor{in_string,in_vowels} ➞ {out_string}')\n",
    "\n",
    "uncensor(\"Wh*r* d*d my v*w*ls g*?\", \"eeioeo\")\n",
    "uncensor(\"abcd\", \"\")\n",
    "uncensor(\"*PP*RC*S*\", \"UEAE\") "
   ]
  },
  {
   "cell_type": "markdown",
   "id": "453c40ae",
   "metadata": {},
   "source": [
    "Q4. Write a function that takes an IP address and returns the domain name using PTR DNS records.\n",
    "Example\n",
    "\n",
    "get_domain(\"8.8.8.8\") ➞ \"dns.google\"\n",
    "\n",
    "get_domain(\"8.8.4.4\") ➞ \"dns.google\""
   ]
  },
  {
   "cell_type": "code",
   "execution_count": 7,
   "id": "5ca3dbf4",
   "metadata": {},
   "outputs": [
    {
     "name": "stdout",
     "output_type": "stream",
     "text": [
      "dns.google\n",
      "dns.google\n",
      "ineuron.interactivedns.com\n"
     ]
    }
   ],
   "source": [
    "import socket\n",
    "\n",
    "def get_domain(ip_address):\n",
    "    return socket.gethostbyaddr(ip_address)[0]\n",
    "\n",
    "print(get_domain(\"8.8.8.8\"))\n",
    "print(get_domain(\"8.8.4.4\"))\n",
    "print(get_domain(\"172.105.51.234\"))"
   ]
  },
  {
   "cell_type": "code",
   "execution_count": 8,
   "id": "d840be45",
   "metadata": {},
   "outputs": [
    {
     "name": "stdout",
     "output_type": "stream",
     "text": [
      "get_domain(8.8.8.8) ➞ ('dns.google', [], ['8.8.8.8']) ➞ dns.google\n",
      "get_domain(8.8.4.4) ➞ ('dns.google', [], ['8.8.4.4']) ➞ dns.google\n"
     ]
    }
   ],
   "source": [
    "import socket\n",
    "def get_domain(in_ip):\n",
    "    print(f'get_domain({in_ip}) ➞ {socket.gethostbyaddr(in_ip)} ➞ {socket.gethostbyaddr(in_ip)[0]}')\n",
    "    \n",
    "get_domain(\"8.8.8.8\")\n",
    "get_domain(\"8.8.4.4\")"
   ]
  },
  {
   "cell_type": "markdown",
   "id": "8f5a4e8a",
   "metadata": {},
   "source": [
    "Q5. Create a function that takes an integer n and returns the factorial of factorials. See below examples for a better understanding:\n",
    "Examples\n",
    "\n",
    "fact_of_fact(4) ➞ 288\n",
    "\n",
    "4! * 3! * 2! * 1! = 288\n",
    "fact_of_fact(5) ➞ 34560\n",
    "\n",
    "fact_of_fact(6) ➞ 24883200"
   ]
  },
  {
   "cell_type": "code",
   "execution_count": 9,
   "id": "66ab5239",
   "metadata": {},
   "outputs": [
    {
     "name": "stdout",
     "output_type": "stream",
     "text": [
      "288\n",
      "34560\n",
      "24883200\n"
     ]
    }
   ],
   "source": [
    "def fact(n):\n",
    "    if n == 0 or n == 1:\n",
    "        return 1\n",
    "    \n",
    "    else:\n",
    "        return n * fact(n-1)\n",
    "    \n",
    "def fact_of_fact(n):\n",
    "    result = 1\n",
    "    while n > 1:\n",
    "        result *= fact(n)\n",
    "        n -= 1\n",
    "    return result   \n",
    "\n",
    "print(fact_of_fact(4)) \n",
    "print(fact_of_fact(5))\n",
    "print(fact_of_fact(6))"
   ]
  },
  {
   "cell_type": "code",
   "execution_count": 10,
   "id": "8eee2bc0",
   "metadata": {},
   "outputs": [
    {
     "name": "stdout",
     "output_type": "stream",
     "text": [
      "fact_of_fact(4) ➞ 288\n",
      "fact_of_fact(5) ➞ 34560\n",
      "fact_of_fact(6) ➞ 24883200\n"
     ]
    }
   ],
   "source": [
    "def fact_of_fact(in_num):\n",
    "    # Internal Function to generate factorial of a Number\n",
    "    def get_factorial(n):\n",
    "        if n == 1:\n",
    "            return 1\n",
    "        else:\n",
    "            return n*get_factorial(n-1)      \n",
    "    out_num = 1\n",
    "    for ele in range(1,in_num+1):\n",
    "        out_num *= get_factorial(ele)\n",
    "    print(f'fact_of_fact({in_num}) ➞ {out_num}')\n",
    "\n",
    "fact_of_fact(4)\n",
    "fact_of_fact(5)\n",
    "fact_of_fact(6)"
   ]
  }
 ],
 "metadata": {
  "kernelspec": {
   "display_name": "Python 3 (ipykernel)",
   "language": "python",
   "name": "python3"
  },
  "language_info": {
   "codemirror_mode": {
    "name": "ipython",
    "version": 3
   },
   "file_extension": ".py",
   "mimetype": "text/x-python",
   "name": "python",
   "nbconvert_exporter": "python",
   "pygments_lexer": "ipython3",
   "version": "3.9.7"
  }
 },
 "nbformat": 4,
 "nbformat_minor": 5
}
